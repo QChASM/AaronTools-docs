{
 "cells": [
  {
   "cell_type": "markdown",
   "id": "e69c5805-591a-4d4b-ab56-87f7222dafaa",
   "metadata": {},
   "source": [
    "# AaronTools and Psi4"
   ]
  },
  {
   "cell_type": "markdown",
   "id": "0435136c-49ab-42dc-82fc-a12504371526",
   "metadata": {},
   "source": [
    "You can download the Jupyter Notebook version of this page <a href=\"https://github.com/QChASM/AaronTools-docs/blob/main/source/tutorials/Jupyter_Psi4.ipynb\" target=\"_blank\">here</a> (click \"Download raw file\")."
   ]
  },
  {
   "cell_type": "markdown",
   "id": "9857487c-a8ec-49dd-b6a0-494b311430ba",
   "metadata": {},
   "source": [
    "Psi4 is an open-source quantum chemistry package that has a simple Python API that lets you run quantum chemistry computations straight from Jupyter.\n",
    "By combining this with the molecular building, visualization, and analysis tools from AaronTools, you can do quite a lot right from a Jupyter Notebook.\n",
    "\n",
    "For example, below we first build formadlehyde using AaronTools:"
   ]
  },
  {
   "cell_type": "code",
   "execution_count": 1,
   "id": "7fe94bad-b4ee-4183-ad99-b9284cba55d9",
   "metadata": {},
   "outputs": [
    {
     "data": {
      "application/3dmoljs_load.v0": "<div id=\"3dmolviewer_17472323767133858\"  style=\"position: relative; width: 640px; height: 480px;\">\n        <p id=\"3dmolwarning_17472323767133858\" style=\"background-color:#ffcccc;color:black\">3Dmol.js failed to load for some reason.  Please check your browser console for error messages.<br></p>\n        </div>\n<script>\n\nvar loadScriptAsync = function(uri){\n  return new Promise((resolve, reject) => {\n    //this is to ignore the existence of requirejs amd\n    var savedexports, savedmodule;\n    if (typeof exports !== 'undefined') savedexports = exports;\n    else exports = {}\n    if (typeof module !== 'undefined') savedmodule = module;\n    else module = {}\n\n    var tag = document.createElement('script');\n    tag.src = uri;\n    tag.async = true;\n    tag.onload = () => {\n        exports = savedexports;\n        module = savedmodule;\n        resolve();\n    };\n  var firstScriptTag = document.getElementsByTagName('script')[0];\n  firstScriptTag.parentNode.insertBefore(tag, firstScriptTag);\n});\n};\n\nif(typeof $3Dmolpromise === 'undefined') {\n$3Dmolpromise = null;\n  $3Dmolpromise = loadScriptAsync('https://cdnjs.cloudflare.com/ajax/libs/3Dmol/2.4.0/3Dmol-min.js');\n}\n\nvar viewer_17472323767133858 = null;\nvar warn = document.getElementById(\"3dmolwarning_17472323767133858\");\nif(warn) {\n    warn.parentNode.removeChild(warn);\n}\n$3Dmolpromise.then(function() {\nviewer_17472323767133858 = $3Dmol.createViewer(document.getElementById(\"3dmolviewer_17472323767133858\"),{backgroundColor:\"white\"});\nviewer_17472323767133858.addModel(\"4\\n\\nC      0.04510   -0.02340   -0.02420\\nO      1.11970   -0.17210   -0.58980\\nH     -0.70940   -0.71480    0.35300\\nH     -0.45540    0.91030    0.26100\");\nviewer_17472323767133858.setStyle({\"stick\": {\"colorscheme\": \"Jmol\"}});\nviewer_17472323767133858.zoomTo();\n\tviewer_17472323767133858.setHoverable({},true,\"function(atom,viewer,event,container) {\\n                       if(!atom.label) {\\n                        var ndx = atom.index + 1;\\n                        atom.label = viewer.addLabel(\\n                            atom.atom + \\\":\\\" + ndx,\\n                            {position: atom, backgroundColor: 'white', fontColor:'black'}\\n                        );\\n                       }}\",\"function(atom,viewer) {\\n                       if(atom.label) {\\n                        viewer.removeLabel(atom.label);\\n                        delete atom.label;\\n                       }\\n                    }\");\nviewer_17472323767133858.render();\n});\n</script>",
      "text/html": [
       "<div id=\"3dmolviewer_17472323767133858\"  style=\"position: relative; width: 640px; height: 480px;\">\n",
       "        <p id=\"3dmolwarning_17472323767133858\" style=\"background-color:#ffcccc;color:black\">3Dmol.js failed to load for some reason.  Please check your browser console for error messages.<br></p>\n",
       "        </div>\n",
       "<script>\n",
       "\n",
       "var loadScriptAsync = function(uri){\n",
       "  return new Promise((resolve, reject) => {\n",
       "    //this is to ignore the existence of requirejs amd\n",
       "    var savedexports, savedmodule;\n",
       "    if (typeof exports !== 'undefined') savedexports = exports;\n",
       "    else exports = {}\n",
       "    if (typeof module !== 'undefined') savedmodule = module;\n",
       "    else module = {}\n",
       "\n",
       "    var tag = document.createElement('script');\n",
       "    tag.src = uri;\n",
       "    tag.async = true;\n",
       "    tag.onload = () => {\n",
       "        exports = savedexports;\n",
       "        module = savedmodule;\n",
       "        resolve();\n",
       "    };\n",
       "  var firstScriptTag = document.getElementsByTagName('script')[0];\n",
       "  firstScriptTag.parentNode.insertBefore(tag, firstScriptTag);\n",
       "});\n",
       "};\n",
       "\n",
       "if(typeof $3Dmolpromise === 'undefined') {\n",
       "$3Dmolpromise = null;\n",
       "  $3Dmolpromise = loadScriptAsync('https://cdnjs.cloudflare.com/ajax/libs/3Dmol/2.4.0/3Dmol-min.js');\n",
       "}\n",
       "\n",
       "var viewer_17472323767133858 = null;\n",
       "var warn = document.getElementById(\"3dmolwarning_17472323767133858\");\n",
       "if(warn) {\n",
       "    warn.parentNode.removeChild(warn);\n",
       "}\n",
       "$3Dmolpromise.then(function() {\n",
       "viewer_17472323767133858 = $3Dmol.createViewer(document.getElementById(\"3dmolviewer_17472323767133858\"),{backgroundColor:\"white\"});\n",
       "viewer_17472323767133858.addModel(\"4\\n\\nC      0.04510   -0.02340   -0.02420\\nO      1.11970   -0.17210   -0.58980\\nH     -0.70940   -0.71480    0.35300\\nH     -0.45540    0.91030    0.26100\");\n",
       "viewer_17472323767133858.setStyle({\"stick\": {\"colorscheme\": \"Jmol\"}});\n",
       "viewer_17472323767133858.zoomTo();\n",
       "\tviewer_17472323767133858.setHoverable({},true,\"function(atom,viewer,event,container) {\\n                       if(!atom.label) {\\n                        var ndx = atom.index + 1;\\n                        atom.label = viewer.addLabel(\\n                            atom.atom + \\\":\\\" + ndx,\\n                            {position: atom, backgroundColor: 'white', fontColor:'black'}\\n                        );\\n                       }}\",\"function(atom,viewer) {\\n                       if(atom.label) {\\n                        viewer.removeLabel(atom.label);\\n                        delete atom.label;\\n                       }\\n                    }\");\n",
       "viewer_17472323767133858.render();\n",
       "});\n",
       "</script>"
      ]
     },
     "metadata": {},
     "output_type": "display_data"
    }
   ],
   "source": [
    "from AaronTools.geometry import Geometry\n",
    "import numpy as np\n",
    "\n",
    "geom = Geometry.from_string('formaldehyde', form='iupac')\n",
    "geom.display()"
   ]
  },
  {
   "cell_type": "markdown",
   "id": "a8c7e843-d0b2-49df-8f4b-82df5c25704d",
   "metadata": {},
   "source": [
    "We can print the C-O bond length and H-C-O angle (remember, hovering over atoms in the above structure will give you atom numbers).\n",
    "Note that `geom.angle()` will return the angle in radians, so we convert this to degrees using Numpy."
   ]
  },
  {
   "cell_type": "code",
   "execution_count": 2,
   "id": "a59ff3ef-6651-4102-aa30-06e2009f27db",
   "metadata": {},
   "outputs": [
    {
     "name": "stdout",
     "output_type": "stream",
     "text": [
      "C-O bond distance: 1.223 Angstroms\n",
      "HCO angle:         133.7 degrees\n"
     ]
    }
   ],
   "source": [
    "atom1 = geom.atoms[0]\n",
    "d = atom1.dist(geom.atoms[1])\n",
    "a = np.degrees(geom.angle('3', '1', '2'))\n",
    "print(f\"C-O bond distance: {d:.3f} Angstroms\")\n",
    "print(f\"HCO angle:         {a:.1f} degrees\")"
   ]
  },
  {
   "cell_type": "markdown",
   "id": "a1c567cd-e9e5-451e-a069-a361a49a745f",
   "metadata": {},
   "source": [
    "To run Psi4 computations on this molecule, we need to convert the AaronTools `Geometry` into a Psi4 `Molecule`.\n",
    "We can then run a HF/STO-3G geometry optimization using `psi4.opt('scf')`.\n",
    "Note that the native geometry optimizer in Psi4 (OptKing) will print all sorts of messages/warnings to the screen.  Just ignore those.\n",
    "Once finished, it should say `Optimization complete`"
   ]
  },
  {
   "cell_type": "code",
   "execution_count": 3,
   "id": "91d7aa70-e09c-4910-b1bd-63c365248ad0",
   "metadata": {},
   "outputs": [
    {
     "name": "stderr",
     "output_type": "stream",
     "text": [
      "\tEnergy has increased in a minimization.\n",
      "\tEnergy ratio indicates iffy step.\n",
      "\tIntrafrag trust radius decreased to   0.25.\n",
      "\tEnergy has increased in a minimization.\n",
      "\tEnergy ratio indicates iffy step.\n",
      "\tIntrafrag trust radius decreased to 0.0625.\n"
     ]
    },
    {
     "name": "stdout",
     "output_type": "stream",
     "text": [
      "Optimizer: Optimization complete!\n"
     ]
    }
   ],
   "source": [
    "import psi4\n",
    "mol = geom.convert_to_Psi4()\n",
    "\n",
    "# set psi4 parameters \n",
    "psi4.set_memory('2 GB')\n",
    "psi4.set_options({'basis': 'sto-3g'})\n",
    "\n",
    "# Perform HF/sto-3g geometry optimization\n",
    "psi4.core.set_output_file('formaldehyde_optimization.dat')\n",
    "energy = psi4.opt('scf')"
   ]
  },
  {
   "cell_type": "markdown",
   "id": "32707f66-7915-4934-a799-b3bf485abb6b",
   "metadata": {},
   "source": [
    "To view this optimized structure, we can create a `Geometry` object from the saved output file.\n",
    "If the output filename ends with '.dat' or '.out' then AaronTools will automatically parse it as a Psi4 output.\n",
    "If you use some other ending you'll have to give AaronTools more information to know how to parse the file."
   ]
  },
  {
   "cell_type": "code",
   "execution_count": 4,
   "id": "84ba6271-8743-487b-b95f-25c16c1f778e",
   "metadata": {},
   "outputs": [
    {
     "data": {
      "application/3dmoljs_load.v0": "<div id=\"3dmolviewer_1747232386707152\"  style=\"position: relative; width: 640px; height: 480px;\">\n        <p id=\"3dmolwarning_1747232386707152\" style=\"background-color:#ffcccc;color:black\">3Dmol.js failed to load for some reason.  Please check your browser console for error messages.<br></p>\n        </div>\n<script>\n\nvar loadScriptAsync = function(uri){\n  return new Promise((resolve, reject) => {\n    //this is to ignore the existence of requirejs amd\n    var savedexports, savedmodule;\n    if (typeof exports !== 'undefined') savedexports = exports;\n    else exports = {}\n    if (typeof module !== 'undefined') savedmodule = module;\n    else module = {}\n\n    var tag = document.createElement('script');\n    tag.src = uri;\n    tag.async = true;\n    tag.onload = () => {\n        exports = savedexports;\n        module = savedmodule;\n        resolve();\n    };\n  var firstScriptTag = document.getElementsByTagName('script')[0];\n  firstScriptTag.parentNode.insertBefore(tag, firstScriptTag);\n});\n};\n\nif(typeof $3Dmolpromise === 'undefined') {\n$3Dmolpromise = null;\n  $3Dmolpromise = loadScriptAsync('https://cdnjs.cloudflare.com/ajax/libs/3Dmol/2.4.0/3Dmol-min.js');\n}\n\nvar viewer_1747232386707152 = null;\nvar warn = document.getElementById(\"3dmolwarning_1747232386707152\");\nif(warn) {\n    warn.parentNode.removeChild(warn);\n}\n$3Dmolpromise.then(function() {\nviewer_1747232386707152 = $3Dmol.createViewer(document.getElementById(\"3dmolviewer_1747232386707152\"),{backgroundColor:\"white\"});\nviewer_1747232386707152.addModel(\"4\\n\\nC     -0.00559    0.00091    0.00299\\nO      1.05882   -0.17964   -0.55818\\nH     -0.65800   -0.82660    0.32330\\nH     -0.39524    1.00533    0.23190\");\nviewer_1747232386707152.setStyle({\"stick\": {\"colorscheme\": \"Jmol\"}});\nviewer_1747232386707152.zoomTo();\n\tviewer_1747232386707152.setHoverable({},true,\"function(atom,viewer,event,container) {\\n                       if(!atom.label) {\\n                        var ndx = atom.index + 1;\\n                        atom.label = viewer.addLabel(\\n                            atom.atom + \\\":\\\" + ndx,\\n                            {position: atom, backgroundColor: 'white', fontColor:'black'}\\n                        );\\n                       }}\",\"function(atom,viewer) {\\n                       if(atom.label) {\\n                        viewer.removeLabel(atom.label);\\n                        delete atom.label;\\n                       }\\n                    }\");\nviewer_1747232386707152.render();\n});\n</script>",
      "text/html": [
       "<div id=\"3dmolviewer_1747232386707152\"  style=\"position: relative; width: 640px; height: 480px;\">\n",
       "        <p id=\"3dmolwarning_1747232386707152\" style=\"background-color:#ffcccc;color:black\">3Dmol.js failed to load for some reason.  Please check your browser console for error messages.<br></p>\n",
       "        </div>\n",
       "<script>\n",
       "\n",
       "var loadScriptAsync = function(uri){\n",
       "  return new Promise((resolve, reject) => {\n",
       "    //this is to ignore the existence of requirejs amd\n",
       "    var savedexports, savedmodule;\n",
       "    if (typeof exports !== 'undefined') savedexports = exports;\n",
       "    else exports = {}\n",
       "    if (typeof module !== 'undefined') savedmodule = module;\n",
       "    else module = {}\n",
       "\n",
       "    var tag = document.createElement('script');\n",
       "    tag.src = uri;\n",
       "    tag.async = true;\n",
       "    tag.onload = () => {\n",
       "        exports = savedexports;\n",
       "        module = savedmodule;\n",
       "        resolve();\n",
       "    };\n",
       "  var firstScriptTag = document.getElementsByTagName('script')[0];\n",
       "  firstScriptTag.parentNode.insertBefore(tag, firstScriptTag);\n",
       "});\n",
       "};\n",
       "\n",
       "if(typeof $3Dmolpromise === 'undefined') {\n",
       "$3Dmolpromise = null;\n",
       "  $3Dmolpromise = loadScriptAsync('https://cdnjs.cloudflare.com/ajax/libs/3Dmol/2.4.0/3Dmol-min.js');\n",
       "}\n",
       "\n",
       "var viewer_1747232386707152 = null;\n",
       "var warn = document.getElementById(\"3dmolwarning_1747232386707152\");\n",
       "if(warn) {\n",
       "    warn.parentNode.removeChild(warn);\n",
       "}\n",
       "$3Dmolpromise.then(function() {\n",
       "viewer_1747232386707152 = $3Dmol.createViewer(document.getElementById(\"3dmolviewer_1747232386707152\"),{backgroundColor:\"white\"});\n",
       "viewer_1747232386707152.addModel(\"4\\n\\nC     -0.00559    0.00091    0.00299\\nO      1.05882   -0.17964   -0.55818\\nH     -0.65800   -0.82660    0.32330\\nH     -0.39524    1.00533    0.23190\");\n",
       "viewer_1747232386707152.setStyle({\"stick\": {\"colorscheme\": \"Jmol\"}});\n",
       "viewer_1747232386707152.zoomTo();\n",
       "\tviewer_1747232386707152.setHoverable({},true,\"function(atom,viewer,event,container) {\\n                       if(!atom.label) {\\n                        var ndx = atom.index + 1;\\n                        atom.label = viewer.addLabel(\\n                            atom.atom + \\\":\\\" + ndx,\\n                            {position: atom, backgroundColor: 'white', fontColor:'black'}\\n                        );\\n                       }}\",\"function(atom,viewer) {\\n                       if(atom.label) {\\n                        viewer.removeLabel(atom.label);\\n                        delete atom.label;\\n                       }\\n                    }\");\n",
       "viewer_1747232386707152.render();\n",
       "});\n",
       "</script>"
      ]
     },
     "metadata": {},
     "output_type": "display_data"
    },
    {
     "name": "stdout",
     "output_type": "stream",
     "text": [
      "After Optimization\n",
      "C-O bond distance: 1.217 Angstroms\n",
      "HCO angle:         122.7 degrees\n"
     ]
    }
   ],
   "source": [
    "opt_geom = Geometry('formaldehyde_optimization.dat')\n",
    "opt_geom.display()\n",
    "\n",
    "atom1 = opt_geom.atoms[0]\n",
    "dnew = atom1.dist(opt_geom.atoms[1])\n",
    "anew = np.degrees(opt_geom.angle('3', '1', '2'))\n",
    "print(\"After Optimization\")\n",
    "print(f\"C-O bond distance: {dnew:.3f} Angstroms\")\n",
    "print(f\"HCO angle:         {anew:.1f} degrees\")"
   ]
  },
  {
   "cell_type": "markdown",
   "id": "8ab06f76-cecb-4fff-ace7-ba42b7566a49",
   "metadata": {},
   "source": [
    "Of course, visually this looks pretty much like our starting structure, but if we print the C-O bond length and HCO angle we see that the structure has indeed changed (this level of theory gives a pretty terrible structure for formaldehyde, but the idea here is to make this example run as quickly as possible).\n",
    "\n",
    "Suppose we now want to compute vibrational frequencies, which must be run on the optimized geometry (at the same level of theory).\n",
    "\n",
    "Our Psi4 molecule `mol` will contain the optimized structure (or we could recreate it from `opt_geom` using `opt_geom.convert_to_Psi4()` to be safe), so we simply ask Psi4 to run frequencies and save the results to a new output file."
   ]
  },
  {
   "cell_type": "code",
   "execution_count": 5,
   "id": "62c4da2c-9b19-49c4-ac23-faf9e8bbc9ae",
   "metadata": {},
   "outputs": [],
   "source": [
    "# perform HF/sto-3g frequency computation\n",
    "psi4.core.set_output_file('formaldehyde_freq.dat')\n",
    "energy = psi4.freq('scf')"
   ]
  },
  {
   "cell_type": "markdown",
   "id": "3847611e-a2b0-4e55-926e-ee258b7155c1",
   "metadata": {},
   "source": [
    "A  limitation of the Psi4 API is that some of the data you likely need is found in the saved output file but not available through the API.\n",
    "\n",
    "However, we can just use AaronTools to parse the output file using a `FileReader` object!\n",
    "\n",
    "For instance, below we create a `FileReader` object (remembering to set `just_geom=False`) and then save the `Frequency` object.\n",
    "We can list the values of all real and imaginary frequencies or print a table of frequencies with IR intensities.\n",
    "\n",
    "We also plot a simulated IR spectrum using `freq.plot_ir()`."
   ]
  },
  {
   "cell_type": "code",
   "execution_count": 6,
   "id": "5aa7e131-2911-4c38-a0b7-6df8547c3563",
   "metadata": {},
   "outputs": [
    {
     "name": "stdout",
     "output_type": "stream",
     "text": [
      "Real frequencies\n",
      "[1278.704, 1397.6315, 1767.1892, 2099.6902, 3498.6582, 3645.6594]\n",
      "\n",
      "Imaginary frequencies\n",
      "[]\n",
      "\n",
      "  Freq     Intensity\n",
      " (cm-1)     (km/mol)\n",
      "--------------------\n",
      " 1278.7       6.16\n",
      " 1397.6      29.60\n",
      " 1767.2       4.15\n",
      " 2099.7       8.47\n",
      " 3498.7       1.82\n",
      " 3645.7      19.93\n"
     ]
    },
    {
     "data": {
      "image/png": "[encoded data removed]",
      "text/plain": [
       "<Figure size 640x480 with 1 Axes>"
      ]
     },
     "metadata": {},
     "output_type": "display_data"
    }
   ],
   "source": [
    "from AaronTools.fileIO import FileReader\n",
    "import matplotlib.pyplot as plt\n",
    "\n",
    "# create FileReader\n",
    "fr = FileReader('formaldehyde_freq.dat', just_geom=False)\n",
    "\n",
    "# grab Frequency object from FileReader\n",
    "freq = fr.other[\"frequency\"]\n",
    "\n",
    "# print frequency values\n",
    "print(\"Real frequencies\")\n",
    "print(freq.real_frequencies)\n",
    "\n",
    "# print imaginary values\n",
    "print(\"\\nImaginary frequencies\")\n",
    "print(freq.imaginary_frequencies)\n",
    "\n",
    "# loop over frequency values and print intensities\n",
    "print(\"\\n  Freq     Intensity\")\n",
    "print(\" (cm-1)     (km/mol)\")\n",
    "print(\"-\"*20)\n",
    "for frq, dict in freq.by_frequency.items():\n",
    "    print(f\" {frq:6.1f}     {dict['intensity']:6.2f}\")\n",
    "    \n",
    "# create MatpLotlib figure and plot IR spectrum\n",
    "fig = plt.gcf()\n",
    "freq.plot_ir(fig)"
   ]
  },
  {
   "cell_type": "markdown",
   "id": "7723683b-d175-4b03-8e9f-a8f131ea06a3",
   "metadata": {},
   "source": [
    "Finally, suppose we want to calculate some thermodynamic quantities (e.g. absolute free energy, etc.) at T=100K.\n",
    "By default, Psi4 computed these quantities at 298.15K. However, we can use AaronTools to recompute these values at any desired temperature.\n",
    "We do this using using a `CompOutput` object in AaronTools, which can be created by reading any QM output file containing frequencies."
   ]
  },
  {
   "cell_type": "code",
   "execution_count": 7,
   "id": "7d0db0e0-8714-4e11-bec1-88f4792470d9",
   "metadata": {},
   "outputs": [
    {
     "name": "stdout",
     "output_type": "stream",
     "text": [
      "RRHO Free energy G(100K):  -150.88731175953797 hartrees\n",
      "QRRHO Free energy G(100K): -150.88732341443506 hartrees\n"
     ]
    }
   ],
   "source": [
    "from AaronTools.comp_output import CompOutput\n",
    "\n",
    "# create CompOutput object \n",
    "co = CompOutput('water_freq.dat')\n",
    "\n",
    "# Electronic energy\n",
    "E = co.energy\n",
    "\n",
    "# correction to E to get RRHO G\n",
    "dG = co.calc_G_corr(temperature=100)\n",
    "print(f\"RRHO Free energy G(100K):  {E + dG} hartrees\")\n",
    "\n",
    "# Grimme's quasi-RRHO free energy\n",
    "QRRHO_G = co.calc_Grimme_G(temperature=100)\n",
    "print(f\"QRRHO Free energy G(100K): {QRRHO_G} hartrees\")"
   ]
  },
  {
   "cell_type": "markdown",
   "id": "d630ac95-6974-425d-b4bc-a50baae934ae",
   "metadata": {},
   "source": [
    "Notice that while Psi4 is limited to the standard RRHO free energy, AaronTools allows us to evaluate G using the RRHO, quasi-RRHO, and quasi-harmonic approximations.\n",
    "For formaldehyde, these three approximations will be essentially equivalent, because there are no low-frequency vibrational modes for formaldehyde (< 100 cm-1).\n",
    "\n",
    "Also, keep in mind that these thermochemical quantitites will be **absolute free energies**, not free energies of formation."
   ]
  },
  {
   "cell_type": "code",
   "execution_count": null,
   "id": "0f4477a4-2167-40a5-88f3-25c88b2df2ec",
   "metadata": {},
   "outputs": [],
   "source": []
  }
 ],
 "metadata": {
  "kernelspec": {
   "display_name": "Python 3 (ipykernel)",
   "language": "python",
   "name": "python3"
  },
  "language_info": {
   "codemirror_mode": {
    "name": "ipython",
    "version": 3
   },
   "file_extension": ".py",
   "mimetype": "text/x-python",
   "name": "python",
   "nbconvert_exporter": "python",
   "pygments_lexer": "ipython3",
   "version": "3.11.9"
  }
 },
 "nbformat": 4,
 "nbformat_minor": 5
}