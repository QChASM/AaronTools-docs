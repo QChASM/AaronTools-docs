{
 "cells": [
  {
   "cell_type": "markdown",
   "id": "e69c5805-591a-4d4b-ab56-87f7222dafaa",
   "metadata": {},
   "source": [
    "# Working with AaronTools in Jupyter Notebooks"
   ]
  },
  {
   "cell_type": "markdown",
   "id": "9857487c-a8ec-49dd-b6a0-494b311430ba",
   "metadata": {},
   "source": [
    "Jupyter Notebooks provide an intuitive way of working with AaronTools by allowing for the display of interactive 3D models of AaronTools Geometries.\n",
    "\n",
    "For example, below we build a `Geometry` object for toluene and then display the resulting structure by calling `geom.display()`.\n",
    "\n",
    "Note that if you hover over an atom it will display the element and atom number."
   ]
  },
  {
   "cell_type": "code",
   "execution_count": 14,
   "id": "7fe94bad-b4ee-4183-ad99-b9284cba55d9",
   "metadata": {},
   "outputs": [
    {
     "data": {
      "application/3dmoljs_load.v0": "<div id=\"3dmolviewer_1732044448976414\"  style=\"position: relative; width: 640px; height: 480px;\">\n        <p id=\"3dmolwarning_1732044448976414\" style=\"background-color:#ffcccc;color:black\">3Dmol.js failed to load for some reason.  Please check your browser console for error messages.<br></p>\n        </div>\n<script>\n\nvar loadScriptAsync = function(uri){\n  return new Promise((resolve, reject) => {\n    //this is to ignore the existence of requirejs amd\n    var savedexports, savedmodule;\n    if (typeof exports !== 'undefined') savedexports = exports;\n    else exports = {}\n    if (typeof module !== 'undefined') savedmodule = module;\n    else module = {}\n\n    var tag = document.createElement('script');\n    tag.src = uri;\n    tag.async = true;\n    tag.onload = () => {\n        exports = savedexports;\n        module = savedmodule;\n        resolve();\n    };\n  var firstScriptTag = document.getElementsByTagName('script')[0];\n  firstScriptTag.parentNode.insertBefore(tag, firstScriptTag);\n});\n};\n\nif(typeof $3Dmolpromise === 'undefined') {\n$3Dmolpromise = null;\n  $3Dmolpromise = loadScriptAsync('https://cdnjs.cloudflare.com/ajax/libs/3Dmol/2.4.0/3Dmol-min.js');\n}\n\nvar viewer_1732044448976414 = null;\nvar warn = document.getElementById(\"3dmolwarning_1732044448976414\");\nif(warn) {\n    warn.parentNode.removeChild(warn);\n}\n$3Dmolpromise.then(function() {\nviewer_1732044448976414 = $3Dmol.createViewer(document.getElementById(\"3dmolviewer_1732044448976414\"),{backgroundColor:\"white\"});\nviewer_1732044448976414.addModel(\"15\\n\\nC      2.13640   -0.06990   -0.26770\\nC      0.67550   -0.03680   -0.09330\\nC      0.11290    1.18590    0.26220\\nC     -1.25840    1.21650    0.42580\\nC     -2.05490    0.08030    0.24580\\nC     -1.43020   -1.08430   -0.10300\\nC     -0.04970   -1.19450   -0.28660\\nH      2.48870    0.44210   -1.19590\\nH      2.50510   -1.13320   -0.30170\\nH      2.61070    0.35210    0.64080\\nH      0.68650    2.08140    0.41030\\nH     -1.76890    2.15020    0.70650\\nH     -3.12950    0.11370    0.37620\\nH     -1.98340   -2.01160   -0.26090\\nH      0.45930   -2.09180   -0.55850\");\nviewer_1732044448976414.setStyle({\"stick\": {\"colorscheme\": \"Jmol\"}});\nviewer_1732044448976414.zoomTo();\n\tviewer_1732044448976414.setHoverable({},true,\"function(atom,viewer,event,container) {\\n                       if(!atom.label) {\\n                        var ndx = atom.index + 1;\\n                        atom.label = viewer.addLabel(\\n                            atom.atom + \\\":\\\" + ndx,\\n                            {position: atom, backgroundColor: 'white', fontColor:'black'}\\n                        );\\n                       }}\",\"function(atom,viewer) {\\n                       if(atom.label) {\\n                        viewer.removeLabel(atom.label);\\n                        delete atom.label;\\n                       }\\n                    }\");\nviewer_1732044448976414.render();\n});\n</script>",
      "text/html": [
       "<div id=\"3dmolviewer_1732044448976414\"  style=\"position: relative; width: 640px; height: 480px;\">\n",
       "        <p id=\"3dmolwarning_1732044448976414\" style=\"background-color:#ffcccc;color:black\">3Dmol.js failed to load for some reason.  Please check your browser console for error messages.<br></p>\n",
       "        </div>\n",
       "<script>\n",
       "\n",
       "var loadScriptAsync = function(uri){\n",
       "  return new Promise((resolve, reject) => {\n",
       "    //this is to ignore the existence of requirejs amd\n",
       "    var savedexports, savedmodule;\n",
       "    if (typeof exports !== 'undefined') savedexports = exports;\n",
       "    else exports = {}\n",
       "    if (typeof module !== 'undefined') savedmodule = module;\n",
       "    else module = {}\n",
       "\n",
       "    var tag = document.createElement('script');\n",
       "    tag.src = uri;\n",
       "    tag.async = true;\n",
       "    tag.onload = () => {\n",
       "        exports = savedexports;\n",
       "        module = savedmodule;\n",
       "        resolve();\n",
       "    };\n",
       "  var firstScriptTag = document.getElementsByTagName('script')[0];\n",
       "  firstScriptTag.parentNode.insertBefore(tag, firstScriptTag);\n",
       "});\n",
       "};\n",
       "\n",
       "if(typeof $3Dmolpromise === 'undefined') {\n",
       "$3Dmolpromise = null;\n",
       "  $3Dmolpromise = loadScriptAsync('https://cdnjs.cloudflare.com/ajax/libs/3Dmol/2.4.0/3Dmol-min.js');\n",
       "}\n",
       "\n",
       "var viewer_1732044448976414 = null;\n",
       "var warn = document.getElementById(\"3dmolwarning_1732044448976414\");\n",
       "if(warn) {\n",
       "    warn.parentNode.removeChild(warn);\n",
       "}\n",
       "$3Dmolpromise.then(function() {\n",
       "viewer_1732044448976414 = $3Dmol.createViewer(document.getElementById(\"3dmolviewer_1732044448976414\"),{backgroundColor:\"white\"});\n",
       "viewer_1732044448976414.addModel(\"15\\n\\nC      2.13640   -0.06990   -0.26770\\nC      0.67550   -0.03680   -0.09330\\nC      0.11290    1.18590    0.26220\\nC     -1.25840    1.21650    0.42580\\nC     -2.05490    0.08030    0.24580\\nC     -1.43020   -1.08430   -0.10300\\nC     -0.04970   -1.19450   -0.28660\\nH      2.48870    0.44210   -1.19590\\nH      2.50510   -1.13320   -0.30170\\nH      2.61070    0.35210    0.64080\\nH      0.68650    2.08140    0.41030\\nH     -1.76890    2.15020    0.70650\\nH     -3.12950    0.11370    0.37620\\nH     -1.98340   -2.01160   -0.26090\\nH      0.45930   -2.09180   -0.55850\");\n",
       "viewer_1732044448976414.setStyle({\"stick\": {\"colorscheme\": \"Jmol\"}});\n",
       "viewer_1732044448976414.zoomTo();\n",
       "\tviewer_1732044448976414.setHoverable({},true,\"function(atom,viewer,event,container) {\\n                       if(!atom.label) {\\n                        var ndx = atom.index + 1;\\n                        atom.label = viewer.addLabel(\\n                            atom.atom + \\\":\\\" + ndx,\\n                            {position: atom, backgroundColor: 'white', fontColor:'black'}\\n                        );\\n                       }}\",\"function(atom,viewer) {\\n                       if(atom.label) {\\n                        viewer.removeLabel(atom.label);\\n                        delete atom.label;\\n                       }\\n                    }\");\n",
       "viewer_1732044448976414.render();\n",
       "});\n",
       "</script>"
      ]
     },
     "metadata": {},
     "output_type": "display_data"
    }
   ],
   "source": [
    "from AaronTools.geometry import Geometry\n",
    "import numpy as np\n",
    "\n",
    "geom = Geometry.from_string('toluene', form='iupac')\n",
    "geom.display()"
   ]
  },
  {
   "cell_type": "markdown",
   "id": "a1c567cd-e9e5-451e-a069-a361a49a745f",
   "metadata": {},
   "source": [
    "We can then use other AaronTools commands to build more complex structures.\n",
    "For example, we can replace `H12` with a CN group and then build and display a dimer."
   ]
  },
  {
   "cell_type": "code",
   "execution_count": 15,
   "id": "91d7aa70-e09c-4910-b1bd-63c365248ad0",
   "metadata": {},
   "outputs": [
    {
     "data": {
      "application/3dmoljs_load.v0": "<div id=\"3dmolviewer_1732044453210502\"  style=\"position: relative; width: 640px; height: 480px;\">\n        <p id=\"3dmolwarning_1732044453210502\" style=\"background-color:#ffcccc;color:black\">3Dmol.js failed to load for some reason.  Please check your browser console for error messages.<br></p>\n        </div>\n<script>\n\nvar loadScriptAsync = function(uri){\n  return new Promise((resolve, reject) => {\n    //this is to ignore the existence of requirejs amd\n    var savedexports, savedmodule;\n    if (typeof exports !== 'undefined') savedexports = exports;\n    else exports = {}\n    if (typeof module !== 'undefined') savedmodule = module;\n    else module = {}\n\n    var tag = document.createElement('script');\n    tag.src = uri;\n    tag.async = true;\n    tag.onload = () => {\n        exports = savedexports;\n        module = savedmodule;\n        resolve();\n    };\n  var firstScriptTag = document.getElementsByTagName('script')[0];\n  firstScriptTag.parentNode.insertBefore(tag, firstScriptTag);\n});\n};\n\nif(typeof $3Dmolpromise === 'undefined') {\n$3Dmolpromise = null;\n  $3Dmolpromise = loadScriptAsync('https://cdnjs.cloudflare.com/ajax/libs/3Dmol/2.4.0/3Dmol-min.js');\n}\n\nvar viewer_1732044453210502 = null;\nvar warn = document.getElementById(\"3dmolwarning_1732044453210502\");\nif(warn) {\n    warn.parentNode.removeChild(warn);\n}\n$3Dmolpromise.then(function() {\nviewer_1732044453210502 = $3Dmol.createViewer(document.getElementById(\"3dmolviewer_1732044453210502\"),{backgroundColor:\"white\"});\nviewer_1732044453210502.addModel(\"31\\n\\nC      2.13640   -0.06990   -0.26770\\nC      0.67550   -0.03680   -0.09330\\nC      0.11290    1.18590    0.26220\\nC     -1.25840    1.21650    0.42580\\nC     -2.05490    0.08030    0.24580\\nC     -1.43020   -1.08430   -0.10300\\nC     -0.04970   -1.19450   -0.28660\\nH      2.48870    0.44210   -1.19590\\nH      2.50510   -1.13320   -0.30170\\nH      2.61070    0.35210    0.64080\\nH      0.68650    2.08140    0.41030\\nC     -1.96347    2.50607    0.81348\\nH     -3.12950    0.11370    0.37620\\nH     -1.98340   -2.01160   -0.26090\\nH      0.45930   -2.09180   -0.55850\\nN     -2.50288    3.49265    1.11008\\nC      2.25115    2.37369    3.23230\\nC      0.96943    1.67191    3.40670\\nC     -0.12915    2.44949    3.76220\\nC     -1.33203    1.79035    3.92580\\nC     -1.45372    0.40812    3.74580\\nC     -0.33041   -0.28811    3.39700\\nC      0.92023    0.30671    3.21340\\nH      2.30025    2.99325    2.30410\\nH      3.10211    1.63720    3.19830\\nH      2.45091    2.97630    4.14080\\nH     -0.08015    3.51182    3.91030\\nH     -2.24099    2.34370    4.20650\\nH     -2.40105   -0.10026    3.87620\\nH     -0.34585   -1.36777    3.23910\\nH      1.80969   -0.21588    2.94150\");\nviewer_1732044453210502.setStyle({\"stick\": {\"colorscheme\": \"Jmol\"}});\nviewer_1732044453210502.zoomTo();\n\tviewer_1732044453210502.setHoverable({},true,\"function(atom,viewer,event,container) {\\n                       if(!atom.label) {\\n                        var ndx = atom.index + 1;\\n                        atom.label = viewer.addLabel(\\n                            atom.atom + \\\":\\\" + ndx,\\n                            {position: atom, backgroundColor: 'white', fontColor:'black'}\\n                        );\\n                       }}\",\"function(atom,viewer) {\\n                       if(atom.label) {\\n                        viewer.removeLabel(atom.label);\\n                        delete atom.label;\\n                       }\\n                    }\");\nviewer_1732044453210502.render();\n});\n</script>",
      "text/html": [
       "<div id=\"3dmolviewer_1732044453210502\"  style=\"position: relative; width: 640px; height: 480px;\">\n",
       "        <p id=\"3dmolwarning_1732044453210502\" style=\"background-color:#ffcccc;color:black\">3Dmol.js failed to load for some reason.  Please check your browser console for error messages.<br></p>\n",
       "        </div>\n",
       "<script>\n",
       "\n",
       "var loadScriptAsync = function(uri){\n",
       "  return new Promise((resolve, reject) => {\n",
       "    //this is to ignore the existence of requirejs amd\n",
       "    var savedexports, savedmodule;\n",
       "    if (typeof exports !== 'undefined') savedexports = exports;\n",
       "    else exports = {}\n",
       "    if (typeof module !== 'undefined') savedmodule = module;\n",
       "    else module = {}\n",
       "\n",
       "    var tag = document.createElement('script');\n",
       "    tag.src = uri;\n",
       "    tag.async = true;\n",
       "    tag.onload = () => {\n",
       "        exports = savedexports;\n",
       "        module = savedmodule;\n",
       "        resolve();\n",
       "    };\n",
       "  var firstScriptTag = document.getElementsByTagName('script')[0];\n",
       "  firstScriptTag.parentNode.insertBefore(tag, firstScriptTag);\n",
       "});\n",
       "};\n",
       "\n",
       "if(typeof $3Dmolpromise === 'undefined') {\n",
       "$3Dmolpromise = null;\n",
       "  $3Dmolpromise = loadScriptAsync('https://cdnjs.cloudflare.com/ajax/libs/3Dmol/2.4.0/3Dmol-min.js');\n",
       "}\n",
       "\n",
       "var viewer_1732044453210502 = null;\n",
       "var warn = document.getElementById(\"3dmolwarning_1732044453210502\");\n",
       "if(warn) {\n",
       "    warn.parentNode.removeChild(warn);\n",
       "}\n",
       "$3Dmolpromise.then(function() {\n",
       "viewer_1732044453210502 = $3Dmol.createViewer(document.getElementById(\"3dmolviewer_1732044453210502\"),{backgroundColor:\"white\"});\n",
       "viewer_1732044453210502.addModel(\"31\\n\\nC      2.13640   -0.06990   -0.26770\\nC      0.67550   -0.03680   -0.09330\\nC      0.11290    1.18590    0.26220\\nC     -1.25840    1.21650    0.42580\\nC     -2.05490    0.08030    0.24580\\nC     -1.43020   -1.08430   -0.10300\\nC     -0.04970   -1.19450   -0.28660\\nH      2.48870    0.44210   -1.19590\\nH      2.50510   -1.13320   -0.30170\\nH      2.61070    0.35210    0.64080\\nH      0.68650    2.08140    0.41030\\nC     -1.96347    2.50607    0.81348\\nH     -3.12950    0.11370    0.37620\\nH     -1.98340   -2.01160   -0.26090\\nH      0.45930   -2.09180   -0.55850\\nN     -2.50288    3.49265    1.11008\\nC      2.25115    2.37369    3.23230\\nC      0.96943    1.67191    3.40670\\nC     -0.12915    2.44949    3.76220\\nC     -1.33203    1.79035    3.92580\\nC     -1.45372    0.40812    3.74580\\nC     -0.33041   -0.28811    3.39700\\nC      0.92023    0.30671    3.21340\\nH      2.30025    2.99325    2.30410\\nH      3.10211    1.63720    3.19830\\nH      2.45091    2.97630    4.14080\\nH     -0.08015    3.51182    3.91030\\nH     -2.24099    2.34370    4.20650\\nH     -2.40105   -0.10026    3.87620\\nH     -0.34585   -1.36777    3.23910\\nH      1.80969   -0.21588    2.94150\");\n",
       "viewer_1732044453210502.setStyle({\"stick\": {\"colorscheme\": \"Jmol\"}});\n",
       "viewer_1732044453210502.zoomTo();\n",
       "\tviewer_1732044453210502.setHoverable({},true,\"function(atom,viewer,event,container) {\\n                       if(!atom.label) {\\n                        var ndx = atom.index + 1;\\n                        atom.label = viewer.addLabel(\\n                            atom.atom + \\\":\\\" + ndx,\\n                            {position: atom, backgroundColor: 'white', fontColor:'black'}\\n                        );\\n                       }}\",\"function(atom,viewer) {\\n                       if(atom.label) {\\n                        viewer.removeLabel(atom.label);\\n                        delete atom.label;\\n                       }\\n                    }\");\n",
       "viewer_1732044453210502.render();\n",
       "});\n",
       "</script>"
      ]
     },
     "metadata": {},
     "output_type": "display_data"
    }
   ],
   "source": [
    "# copy geom to a new Geometry object\n",
    "geom2 = geom.copy()\n",
    "\n",
    "# replace atom 12 with CN\n",
    "geom.substitute(\"CN\", '12')\n",
    "\n",
    "# shift second geometry to (1, 1, 3.5) and rotate 30 degrees around z-axis\n",
    "geom2.coord_shift([1, 1, 3.5])\n",
    "geom2.rotate([0, 0, 1], angle=np.radians(30))\n",
    "\n",
    "# combine monomers to make dimer and display \n",
    "dimer = geom + geom2\n",
    "dimer.display()"
   ]
  },
  {
   "cell_type": "markdown",
   "id": "32707f66-7915-4934-a799-b3bf485abb6b",
   "metadata": {},
   "source": [
    "If we are satisfied with this structure we could then write it to an input file for our favorite quantum chemistry package or run calculations directly in Psi4 from this Jupyter Notebook (see Future Tutorial on running Psi4)."
   ]
  },
  {
   "cell_type": "code",
   "execution_count": null,
   "id": "84ba6271-8743-487b-b95f-25c16c1f778e",
   "metadata": {},
   "outputs": [],
   "source": []
  }
 ],
 "metadata": {
  "kernelspec": {
   "display_name": "Python 3 (ipykernel)",
   "language": "python",
   "name": "python3"
  },
  "language_info": {
   "codemirror_mode": {
    "name": "ipython",
    "version": 3
   },
   "file_extension": ".py",
   "mimetype": "text/x-python",
   "name": "python",
   "nbconvert_exporter": "python",
   "pygments_lexer": "ipython3",
   "version": "3.11.9"
  }
 },
 "nbformat": 4,
 "nbformat_minor": 5
}